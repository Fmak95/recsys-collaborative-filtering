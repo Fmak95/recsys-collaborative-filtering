{
 "cells": [
  {
   "cell_type": "markdown",
   "metadata": {},
   "source": [
    "# Recommender System\n",
    "In this notebook we will take a look at how to perform collaborative filtering to create a recommender system that can suggest new anime for people to watch. This notebook is just a summary of my notes and some code for data exploration and prototyping purposess."
   ]
  },
  {
   "cell_type": "markdown",
   "metadata": {},
   "source": [
    "## What is a Recommender System Anyways?\n",
    "\n",
    "If you have the time, I suggest you watch this <a href=\"https://www.youtube.com/watch?v=ZspR5PZemcs\">video</a> which does a really good job explaining recommendation systems and how companies like Netflix, Spotify and Amazon are putting it to use. \n",
    "\n",
    "Of course, if you're short on time and want my dumb downed explanation, please continue reading below.\n",
    "\n",
    "## The Problem\n",
    "\n",
    "The problem we are trying to solve here is one of rating predictions. Let's assume we have a dataset that contains all the ratings history of multiple users, we can use this data to build a sparse matrix as follows:\n",
    "\n",
    "<img src=\"./pics/sparse_matrix.png\" width=60%/>\n",
    "\n",
    "**Our goal is to predict the ratings of the missing entries, which are also the movies that have not been watched by the user.**\n",
    "\n",
    "## Enter Matrix Factorization\n",
    "\n",
    "So turns out their are many different techniques that have been used to solve our problem, but in this notebook we will focus on matrix factorization, which is a technique that was heavily influenced by a well known linear algebra algorithm called Singular Value Decomposition (SVD).\n",
    "\n",
    "First, let us go back and explain what **factorizing** means. Basically, it means breaking down a component into smaller, more manageable components. In the case of our matrix above, we are going to break it down into two smaller components.\n",
    "\n",
    "For example, let's say that Alice can be defined as an action fan and comedy fan. Meanwhile Bob is a horror and action fan...\n",
    "```\n",
    "Alice = 50% Action + 50% Comedy + 0% Horror\n",
    "Bob = 50% Action + 0% Comedy + 50% Horror\n",
    "```\n",
    "We can also break down our movies to types of genres. For example, \"toy story\" is a mix of action, adventure and comedy. Meanwhile \"the ring\" is a mixture of horror and action.\n",
    "```\n",
    "Toy Story = 50% Action + 25% Adventure + 25% Comedy + 0% Horror\n",
    "The Ring = 50% Action + 0% Adventure + 0% Comedy + 0% Horror\n",
    "```\n",
    "Based on this information, we can easily tell that Alice is going to rate toy story higher than she rates the ring and vice versa for Bob.\n",
    "\n",
    "This is the basic idea behind matrix factorization, we are trying to **break down the user-rating matrix** into two smaller matrices: **user-genre matrix** and **movie-genre matrix.**\n",
    "\n",
    "<img src =\"./pics/matrix-factorization.png\"/>"
   ]
  },
  {
   "cell_type": "markdown",
   "metadata": {},
   "source": [
    "# The Data\n",
    "\n",
    "In this section we will actually build our own anime recommendation system. The data was mined from the <a href=\"https://myanimelist.net\">myanimelist website </a>. All the hard work was done by \"Azathoth\", and the dataset is available for free <a href=\"https://www.kaggle.com/azathoth42/myanimelist\">here.</a>"
   ]
  },
  {
   "cell_type": "code",
   "execution_count": 1,
   "metadata": {},
   "outputs": [],
   "source": [
    "import pandas as pd\n",
    "import surprise\n",
    "from jikanpy import Jikan\n",
    "import numpy as np\n",
    "import time\n",
    "\n",
    "# To create deep learning models\n",
    "from tensorflow.keras.layers import Input, Embedding, Reshape, Dot, Concatenate, Dense, Dropout, Flatten, Multiply\n",
    "from tensorflow.keras.models import Model\n",
    "from tensorflow.keras.initializers import glorot_uniform, Ones, RandomNormal\n",
    "from sklearn.metrics import mean_absolute_error\n",
    "\n",
    "%matplotlib inline"
   ]
  },
  {
   "cell_type": "code",
   "execution_count": 2,
   "metadata": {},
   "outputs": [],
   "source": [
    "# The dataset, anime_id_title.csv contains a mapping between the anime's title and an integer value\n",
    "\n",
    "anime_id_map = pd.read_csv('./data/anime_id_title.csv')\n",
    "anime_id_map.head()\n",
    "\n",
    "id_2_title = {id: title for id, title in zip(anime_id_map.anime_id, anime_id_map.title)}\n",
    "title_2_id = {title: id for id, title in zip(anime_id_map.anime_id, anime_id_map.title)}"
   ]
  },
  {
   "cell_type": "code",
   "execution_count": 3,
   "metadata": {},
   "outputs": [],
   "source": [
    "df = pd.read_csv('./data/user_ratings.csv')\n",
    "df = df[['username','anime_id','my_score']]\n",
    "\n",
    "#Map username to userID\n",
    "username_to_id = {username: id for id, username in enumerate(df.username.unique())}\n",
    "id_to_username = {id: username for id, username in enumerate(df.username.unique())}\n",
    "\n",
    "df['username'] = df['username'].map(username_to_id)"
   ]
  },
  {
   "cell_type": "code",
   "execution_count": 4,
   "metadata": {},
   "outputs": [
    {
     "data": {
      "text/html": [
       "<div>\n",
       "<style scoped>\n",
       "    .dataframe tbody tr th:only-of-type {\n",
       "        vertical-align: middle;\n",
       "    }\n",
       "\n",
       "    .dataframe tbody tr th {\n",
       "        vertical-align: top;\n",
       "    }\n",
       "\n",
       "    .dataframe thead th {\n",
       "        text-align: right;\n",
       "    }\n",
       "</style>\n",
       "<table border=\"1\" class=\"dataframe\">\n",
       "  <thead>\n",
       "    <tr style=\"text-align: right;\">\n",
       "      <th></th>\n",
       "      <th>title</th>\n",
       "      <th>score</th>\n",
       "      <th>scored_by</th>\n",
       "      <th>rank</th>\n",
       "    </tr>\n",
       "  </thead>\n",
       "  <tbody>\n",
       "    <tr>\n",
       "      <th>0</th>\n",
       "      <td>Inu x Boku SS</td>\n",
       "      <td>7.63</td>\n",
       "      <td>139250</td>\n",
       "      <td>1274.0</td>\n",
       "    </tr>\n",
       "    <tr>\n",
       "      <th>1</th>\n",
       "      <td>Seto no Hanayome</td>\n",
       "      <td>7.89</td>\n",
       "      <td>91206</td>\n",
       "      <td>727.0</td>\n",
       "    </tr>\n",
       "    <tr>\n",
       "      <th>2</th>\n",
       "      <td>Shugo Chara!! Doki</td>\n",
       "      <td>7.55</td>\n",
       "      <td>37129</td>\n",
       "      <td>1508.0</td>\n",
       "    </tr>\n",
       "    <tr>\n",
       "      <th>3</th>\n",
       "      <td>Princess Tutu</td>\n",
       "      <td>8.21</td>\n",
       "      <td>36501</td>\n",
       "      <td>307.0</td>\n",
       "    </tr>\n",
       "    <tr>\n",
       "      <th>4</th>\n",
       "      <td>Bakuman. 3rd Season</td>\n",
       "      <td>8.67</td>\n",
       "      <td>107767</td>\n",
       "      <td>50.0</td>\n",
       "    </tr>\n",
       "  </tbody>\n",
       "</table>\n",
       "</div>"
      ],
      "text/plain": [
       "                 title  score  scored_by    rank\n",
       "0        Inu x Boku SS   7.63     139250  1274.0\n",
       "1     Seto no Hanayome   7.89      91206   727.0\n",
       "2   Shugo Chara!! Doki   7.55      37129  1508.0\n",
       "3        Princess Tutu   8.21      36501   307.0\n",
       "4  Bakuman. 3rd Season   8.67     107767    50.0"
      ]
     },
     "execution_count": 4,
     "metadata": {},
     "output_type": "execute_result"
    }
   ],
   "source": [
    "# Anime cleaned contains details of all the anime within the dataset including the most highly ranked anime.\n",
    "# If we run into the 'cold start' problem, we will suggest the most highly ranked anime for the user to watch.\n",
    "anime_cleaned = pd.read_csv('./data/anime_cleaned.csv')\n",
    "anime_cleaned = anime_cleaned[['title','score','scored_by','rank']]\n",
    "anime_cleaned.head()"
   ]
  },
  {
   "cell_type": "markdown",
   "metadata": {},
   "source": [
    "## Data Cleaning:\n",
    "\n",
    "Our current dataset is too large and takes too long for our machine learning algorithm to compute. Therefore, we are going to reduce the size of the algorithm by following a couple steps:\n",
    "- Remove anime that have less than or equal to 5000 ratings\n",
    "- Remove user's that have less than or equal to 10 reviews\n",
    "- Randomly select 5000 users to be part of the recommendation system.\n",
    "\n",
    "One of the main drawbacks from reducing the size of our database is that we are also removing some rare anime from the dataset. Hence, we are only going to be able to recommend the more popular anime."
   ]
  },
  {
   "cell_type": "code",
   "execution_count": 5,
   "metadata": {},
   "outputs": [],
   "source": [
    "#anime with less than 10 ratings\n",
    "reviews_per_anime = df.groupby('anime_id').count()\n",
    "anime_few_reviews = reviews_per_anime[reviews_per_anime.username <= 5000].index.to_list()\n",
    "\n",
    "#user's with less than 10 reviews\n",
    "review_per_user = df.groupby('username').count()\n",
    "users_few_reviews = review_per_user[review_per_user.anime_id <= 10].index.to_list()\n",
    "\n",
    "#Remove anime with less than 10 ratings\n",
    "df = df[~df['anime_id'].isin(anime_few_reviews)]\n",
    "\n",
    "#Remove user's with less than 10 reviews\n",
    "df = df[~df['username'].isin(users_few_reviews)]"
   ]
  },
  {
   "cell_type": "code",
   "execution_count": 6,
   "metadata": {},
   "outputs": [
    {
     "data": {
      "text/plain": [
       "<matplotlib.axes._subplots.AxesSubplot at 0x1a2ba53f28>"
      ]
     },
     "execution_count": 6,
     "metadata": {},
     "output_type": "execute_result"
    },
    {
     "data": {
      "image/png": "[encoded data removed]",
      "text/plain": [
       "<Figure size 432x288 with 1 Axes>"
      ]
     },
     "metadata": {
      "needs_background": "light"
     },
     "output_type": "display_data"
    }
   ],
   "source": [
    "#How many users are in the database? 108249\n",
    "\n",
    "#Check the distribution of ratings per user\n",
    "df.groupby('username').count().anime_id.hist(bins=25)"
   ]
  },
  {
   "cell_type": "code",
   "execution_count": 7,
   "metadata": {},
   "outputs": [
    {
     "name": "stdout",
     "output_type": "stream",
     "text": [
      "1178\n"
     ]
    },
    {
     "data": {
      "text/plain": [
       "<matplotlib.axes._subplots.AxesSubplot at 0x1a2de424e0>"
      ]
     },
     "execution_count": 7,
     "metadata": {},
     "output_type": "execute_result"
    },
    {
     "data": {
      "image/png": "[encoded data removed]",
      "text/plain": [
       "<Figure size 432x288 with 1 Axes>"
      ]
     },
     "metadata": {
      "needs_background": "light"
     },
     "output_type": "display_data"
    }
   ],
   "source": [
    "print(len(df.anime_id.unique()))\n",
    "#Reduce the number of users in our data by randomly selecting 5000 ppl to include in our databasse\n",
    "index = np.random.randint(low=0, high=len(df.username.unique()), size=5000)\n",
    "df = df[df.username.isin(index)]\n",
    "\n",
    "#Recheck our distribution of ratings per user to see if the random downsampling messed anything up\n",
    "df.groupby('username').count().anime_id.hist(bins=25)"
   ]
  },
  {
   "cell_type": "markdown",
   "metadata": {},
   "source": [
    "## Using Scikit-Surprise recommendation system"
   ]
  },
  {
   "cell_type": "code",
   "execution_count": 8,
   "metadata": {},
   "outputs": [
    {
     "name": "stdout",
     "output_type": "stream",
     "text": [
      "Train time: 27.625802040100098\n",
      "Prediction time: 1.4746990203857422\n",
      "MAE:  1.2666\n"
     ]
    },
    {
     "data": {
      "text/plain": [
       "1.266607061361212"
      ]
     },
     "execution_count": 8,
     "metadata": {},
     "output_type": "execute_result"
    }
   ],
   "source": [
    "#According to surprise documentation: \n",
    "#https://surprise.readthedocs.io/en/stable/getting_started.html#use-a-custom-dataset\n",
    "df = df.rename(columns={'username':'userID', 'anime_id':'itemID', 'my_score':'rating'})\n",
    "reader = surprise.Reader(rating_scale=(0,10))\n",
    "data = surprise.Dataset.load_from_df(df[['userID', 'itemID', 'rating']], reader)\n",
    "algo = surprise.SVD()\n",
    "\n",
    "#Train test split\n",
    "trainset, testset = surprise.model_selection.train_test_split(data, test_size=.25)\n",
    "\n",
    "# Train the algorithm on the trainset, and predict ratings for the testset\n",
    "start = time.time()\n",
    "algo.fit(trainset)\n",
    "end = time.time()\n",
    "print(\"Train time: {}\".format(end - start))\n",
    "\n",
    "start = time.time()\n",
    "predictions = algo.test(testset)\n",
    "end = time.time()\n",
    "print(\"Prediction time: {}\".format(end - start))\n",
    "\n",
    "# Then compute MAE\n",
    "surprise.accuracy.mae(predictions)"
   ]
  },
  {
   "cell_type": "code",
   "execution_count": 9,
   "metadata": {},
   "outputs": [
    {
     "name": "stdout",
     "output_type": "stream",
     "text": [
      "Evaluating RMSE, MAE of algorithm SVD on 5 split(s).\n",
      "\n",
      "                  Fold 1  Fold 2  Fold 3  Fold 4  Fold 5  Mean    Std     \n",
      "RMSE (testset)    1.9107  1.9117  1.9054  1.9068  1.9060  1.9081  0.0026  \n",
      "MAE (testset)     1.2620  1.2608  1.2594  1.2589  1.2610  1.2604  0.0011  \n",
      "Fit time          29.52   29.66   29.64   29.63   29.64   29.62   0.05    \n",
      "Test time         1.15    1.12    1.12    1.13    1.14    1.13    0.01    \n"
     ]
    },
    {
     "data": {
      "text/plain": [
       "{'test_rmse': array([1.9106543 , 1.91166045, 1.90539679, 1.90683248, 1.90599302]),\n",
       " 'test_mae': array([1.26200761, 1.26084458, 1.25941411, 1.25893148, 1.26101031]),\n",
       " 'fit_time': (29.521589040756226,\n",
       "  29.662222862243652,\n",
       "  29.64219903945923,\n",
       "  29.625389099121094,\n",
       "  29.64243459701538),\n",
       " 'test_time': (1.152869701385498,\n",
       "  1.1242239475250244,\n",
       "  1.1205189228057861,\n",
       "  1.1302509307861328,\n",
       "  1.13873291015625)}"
      ]
     },
     "execution_count": 9,
     "metadata": {},
     "output_type": "execute_result"
    }
   ],
   "source": [
    "surprise.model_selection.cross_validate(algo, data, measures=['RMSE', 'MAE'], cv=5, verbose=True)"
   ]
  },
  {
   "cell_type": "markdown",
   "metadata": {},
   "source": [
    "## Building a recommendation system with Keras"
   ]
  },
  {
   "cell_type": "markdown",
   "metadata": {},
   "source": [
    "We implement a simple matrix factorization algorithm in Keras. One thing we add to this algorithm is user bias which tries to take into account the fact that some users tend to rate movies more extremely (i.e. all 10's and all 0's)."
   ]
  },
  {
   "cell_type": "code",
   "execution_count": 10,
   "metadata": {},
   "outputs": [],
   "source": [
    "anime_mapping = {id: i for i, id in enumerate(df.itemID.unique())}\n",
    "user_mapping = {id: i for i, id in enumerate(df.userID.unique())}\n",
    "\n",
    "df['anime_mapping'] = df['itemID'].map(anime_mapping)\n",
    "df['user_mapping'] = df['userID'].map(user_mapping)\n",
    "\n",
    "#Train test split\n",
    "df = df.sample(frac=1).reset_index(drop=True)\n",
    "\n",
    "# Testingsize\n",
    "n = 150000\n",
    "\n",
    "# Split train- & testset\n",
    "df_train = df[:-n]\n",
    "df_test = df[-n:]"
   ]
  },
  {
   "cell_type": "code",
   "execution_count": 11,
   "metadata": {},
   "outputs": [],
   "source": [
    "num_users = len(user_mapping)\n",
    "num_anime = len(anime_mapping)\n",
    "embedding_size = 30\n",
    "\n",
    "### Create Model ###\n",
    "user_input = Input(shape = (1,), name = 'user_input')\n",
    "anime_input = Input(shape = (1,), name = 'anime_input')\n",
    "\n",
    "user_embedding = Embedding(input_dim = num_users + 1,\n",
    "                           output_dim = embedding_size,\n",
    "                           name = 'user_embedding',\n",
    "                           input_length=1,\n",
    "                           embeddings_initializer = glorot_uniform())(user_input)\n",
    "\n",
    "user_bias = Embedding(input_dim = num_users + 1,\n",
    "                     output_dim = 1,\n",
    "                     name = \"user_bias\")(user_input)\n",
    "\n",
    "anime_embedding = Embedding(input_dim = num_anime + 1,\n",
    "                            output_dim = embedding_size,\n",
    "                            name = 'anime_embedding',\n",
    "                            input_length=1,\n",
    "                            embeddings_initializer = glorot_uniform())(anime_input)\n",
    "\n",
    "anime_bias = Embedding(input_dim = num_users + 1,\n",
    "                      output_dim = 1,\n",
    "                      name = 'anime_bias')(anime_input)\n",
    "\n",
    "prod = Multiply(name = \"product\")([user_embedding, anime_embedding])\n",
    "y = Concatenate(axis = -1)([prod, user_bias, anime_bias])\n",
    "y = Dropout(0.25)(y)\n",
    "y = Flatten()(y)\n",
    "y = Dense(64, activation='relu')(y)\n",
    "y = Dense(1, activation='linear')(y)\n",
    "\n",
    "model = Model(inputs = [user_input, anime_input], outputs = y)\n",
    "model.compile('adam', 'mae', metrics=['mae'])\n"
   ]
  },
  {
   "cell_type": "code",
   "execution_count": 12,
   "metadata": {},
   "outputs": [
    {
     "name": "stdout",
     "output_type": "stream",
     "text": [
      "Start Training...\n",
      "Epoch 1/5\n",
      "532573/532573 [==============================] - 5s 9us/sample - loss: 1.9139 - mae: 1.9139\n",
      "Epoch 2/5\n",
      "532573/532573 [==============================] - 4s 8us/sample - loss: 1.2715 - mae: 1.2715 1s - loss:\n",
      "Epoch 3/5\n",
      "532573/532573 [==============================] - 4s 8us/sample - loss: 1.1988 - mae: 1.1988\n",
      "Epoch 4/5\n",
      "532573/532573 [==============================] - 5s 9us/sample - loss: 1.1508 - mae: 1.1508\n",
      "Epoch 5/5\n",
      "532573/532573 [==============================] - 4s 8us/sample - loss: 1.1186 - mae: 1.1186 0s - loss: 1\n",
      "Training time = 22.689926862716675s\n"
     ]
    }
   ],
   "source": [
    "print(\"Start Training...\")\n",
    "start = time.time()\n",
    "model.fit([df_train.user_mapping, df_train.anime_mapping],\n",
    "          df_train.rating, batch_size=256, epochs=5, shuffle=True)\n",
    "end = time.time()\n",
    "print(\"Training time = {}s\".format(end - start))"
   ]
  },
  {
   "cell_type": "code",
   "execution_count": 13,
   "metadata": {},
   "outputs": [],
   "source": [
    "predictions = model.predict([df_test.user_mapping, df_test.anime_mapping])"
   ]
  },
  {
   "cell_type": "code",
   "execution_count": 14,
   "metadata": {},
   "outputs": [
    {
     "data": {
      "text/plain": [
       "1.2204188338549933"
      ]
     },
     "execution_count": 14,
     "metadata": {},
     "output_type": "execute_result"
    }
   ],
   "source": [
    "# Compute mae\n",
    "mae = mean_absolute_error(predictions, df_test.rating)\n",
    "mae"
   ]
  },
  {
   "cell_type": "markdown",
   "metadata": {},
   "source": [
    "## Monte Carlo Simulation\n",
    "We will perform random shuffles on the data and retrain our machine learning model for a number of trails. This is a good way of measuring the performance of our model."
   ]
  },
  {
   "cell_type": "code",
   "execution_count": 15,
   "metadata": {},
   "outputs": [
    {
     "name": "stdout",
     "output_type": "stream",
     "text": [
      "Starting Simulation:\n",
      "Duration: 69.76071667671204s\n",
      "[1.214333754128019, 1.2405123022973537, 1.2205749560007453, 1.2072134682349365, 1.2091823255779346]\n"
     ]
    }
   ],
   "source": [
    "results = []\n",
    "\n",
    "#Run a monte carlo simulation to measure the performance of our machine learning model\n",
    "print(\"Starting Simulation:\")\n",
    "start = time.time()\n",
    "for i in range(5):\n",
    "    #Train test split\n",
    "    df = df.sample(frac=1).reset_index(drop=True)\n",
    "\n",
    "    # Testingsize\n",
    "    n = 150000\n",
    "\n",
    "    # Split train- & testset\n",
    "    df_train = df[:-n]\n",
    "    df_test = df[-n:]\n",
    "    \n",
    "    ### Model Creation ###\n",
    "    num_users = len(user_mapping)\n",
    "    num_anime = len(anime_mapping)\n",
    "    embedding_size = 30\n",
    "    user_input = Input(shape = (1,), name = 'user_input')\n",
    "    anime_input = Input(shape = (1,), name = 'anime_input')\n",
    "    user_embedding = Embedding(input_dim = num_users + 1, \n",
    "                               output_dim = embedding_size,\n",
    "                               name = 'user_embedding',\n",
    "                               input_length=1,\n",
    "                               embeddings_initializer = RandomNormal())(user_input)\n",
    "    \n",
    "    user_bias = Embedding(input_dim = num_users + 1,\n",
    "                         output_dim = 1,\n",
    "                         name = 'user_bias',\n",
    "                         embeddings_initializer = RandomNormal())(user_input)\n",
    "    \n",
    "    anime_embedding = Embedding(input_dim = num_anime + 1,\n",
    "                                output_dim = embedding_size,\n",
    "                                name = 'anime_embedding',\n",
    "                                input_length=1,\n",
    "                                embeddings_initializer = RandomNormal())(anime_input)\n",
    "    \n",
    "    anime_bias = Embedding(input_dim = num_anime + 1,\n",
    "                          output_dim = 1,\n",
    "                          name = \"anime_bias\",\n",
    "                          embeddings_initializer = RandomNormal())(anime_input)\n",
    "    \n",
    "    prod = Multiply(name = \"product\")([user_embedding, anime_embedding])\n",
    "    \n",
    "    y = Concatenate(axis = -1)([prod, user_bias, anime_bias])\n",
    "    y = Dropout(0.5)(y)\n",
    "    y = Flatten()(y)\n",
    "    y = Dense(64, activation = 'relu')(y)\n",
    "    y = Dense(1, activation = 'linear')(y)\n",
    "    model = Model(inputs = [user_input, anime_input], outputs = y)\n",
    "    model.compile('adam', 'mae', metrics=['mae'])\n",
    "    \n",
    "    ### Model Training ###\n",
    "    model.fit([df_train.user_mapping, df_train.anime_mapping],\n",
    "              df_train.rating, batch_size=512, epochs=5, shuffle=True, verbose = 0)\n",
    "    \n",
    "    ### Model Predictions ###\n",
    "    predictions = model.predict([df_test.user_mapping, df_test.anime_mapping])\n",
    "    mae = mean_absolute_error(predictions, df_test.rating)\n",
    "    results.append(mae)\n",
    "\n",
    "end = time.time()\n",
    "print(\"Duration: {}s\".format(end-start))    \n",
    "print(results)"
   ]
  },
  {
   "cell_type": "markdown",
   "metadata": {},
   "source": [
    "# Conclusions\n",
    "In this notebook we created a recommendation system using the matrix factorization method. First, we made use of the scikit-surprise library, which has a pre-built implementation of the SVD algorithm for recommendation purposes. Then, we implemented our own algorithm using keras.\n",
    "\n",
    "In conclusion, both algorithms have very similar performance metrics and training time. (~1.2 MAE and 20 - 30s train time)."
   ]
  }
 ],
 "metadata": {
  "kernelspec": {
   "display_name": "Python 3",
   "language": "python",
   "name": "python3"
  },
  "language_info": {
   "codemirror_mode": {
    "name": "ipython",
    "version": 3
   },
   "file_extension": ".py",
   "mimetype": "text/x-python",
   "name": "python",
   "nbconvert_exporter": "python",
   "pygments_lexer": "ipython3",
   "version": "3.6.8"
  }
 },
 "nbformat": 4,
 "nbformat_minor": 2
}
